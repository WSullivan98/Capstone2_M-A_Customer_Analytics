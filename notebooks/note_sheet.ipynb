{
 "cells": [
  {
   "cell_type": "code",
   "execution_count": 1,
   "id": "rolled-guidance",
   "metadata": {},
   "outputs": [
    {
     "name": "stdout",
     "output_type": "stream",
     "text": [
      "Step 0: Read in customer sales data\n"
     ]
    },
    {
     "ename": "NameError",
     "evalue": "name 'pd' is not defined",
     "output_type": "error",
     "traceback": [
      "\u001b[0;31m---------------------------------------------------------------------------\u001b[0m",
      "\u001b[0;31mNameError\u001b[0m                                 Traceback (most recent call last)",
      "\u001b[0;32m<ipython-input-1-648ae04f5e3c>\u001b[0m in \u001b[0;36m<module>\u001b[0;34m\u001b[0m\n\u001b[1;32m      2\u001b[0m \u001b[0;31m# ------------------------------------------------------------------------------------------------\u001b[0m\u001b[0;34m\u001b[0m\u001b[0;34m\u001b[0m\u001b[0;34m\u001b[0m\u001b[0m\n\u001b[1;32m      3\u001b[0m \u001b[0mprint\u001b[0m\u001b[0;34m(\u001b[0m\u001b[0;34m\"Step 0: Read in customer sales data\"\u001b[0m\u001b[0;34m)\u001b[0m\u001b[0;34m\u001b[0m\u001b[0;34m\u001b[0m\u001b[0m\n\u001b[0;32m----> 4\u001b[0;31m \u001b[0mdata\u001b[0m \u001b[0;34m=\u001b[0m \u001b[0mpd\u001b[0m\u001b[0;34m.\u001b[0m\u001b[0mread_csv\u001b[0m\u001b[0;34m(\u001b[0m\u001b[0;34m'../data/processed/sales.csv'\u001b[0m\u001b[0;34m)\u001b[0m\u001b[0;34m\u001b[0m\u001b[0;34m\u001b[0m\u001b[0m\n\u001b[0m\u001b[1;32m      5\u001b[0m \u001b[0mprint\u001b[0m\u001b[0;34m(\u001b[0m\u001b[0mdata\u001b[0m\u001b[0;34m.\u001b[0m\u001b[0mhead\u001b[0m\u001b[0;34m(\u001b[0m\u001b[0;34m)\u001b[0m\u001b[0;34m)\u001b[0m\u001b[0;34m\u001b[0m\u001b[0;34m\u001b[0m\u001b[0m\n\u001b[1;32m      6\u001b[0m \u001b[0;31m# data_size = data.shape\u001b[0m\u001b[0;34m\u001b[0m\u001b[0;34m\u001b[0m\u001b[0;34m\u001b[0m\u001b[0m\n",
      "\u001b[0;31mNameError\u001b[0m: name 'pd' is not defined"
     ]
    }
   ],
   "source": [
    "import pandas as pd"
   ]
  },
  {
   "cell_type": "code",
   "execution_count": null,
   "id": "interracial-reminder",
   "metadata": {},
   "outputs": [],
   "source": [
    "    # LOAD AND PROCESS DATA\n",
    "    # ------------------------------------------------------------------------------------------------\n",
    "    print(\"Step 0: Read in customer sales data\")\n",
    "    data = pd.read_csv('../data/processed/sales.csv')\n",
    "    print(data.head())\n",
    "    # data_size = data.shape\n",
    "    # print(data_size)\n",
    "\n",
    "    print('\\n STEP 1: PROCESS DATA TO RFM DF ')\n",
    "    summary = create_rfm_lifetimes(data,observation_period_end=validation_end)\n",
    "    summary.to_csv('../data/processed/rfm.csv')\n",
    "    #dfi.export(summary, '../images/RFM_df.png', max_rows=5)\n",
    "    print(summary.head(),'\\n')\n",
    "    \n",
    "    #visualize it\n",
    "    fig = plt.figure(figsize=(12,8))\n",
    "    summary['frequency'].plot(kind='hist', bins=35, title='Frequency Histogram') #add labels etc.\n",
    "    plt.show()\n",
    "\n",
    "    print('Descriptive Statistics \\n' , summary['frequency'].describe())\n",
    "    print('--------------------------')\n",
    "    one_time_buyers = round(sum(summary['frequency'] == 0)/float(len(summary))*(100),2)\n",
    "    print('Percentage of one time purchasers', one_time_buyers,'%')\n",
    "    print('\\n')\n",
    "    # -------------------------------------------------------------------------------------------------\n"
   ]
  },
  {
   "cell_type": "code",
   "execution_count": null,
   "id": "discrete-parent",
   "metadata": {},
   "outputs": [],
   "source": []
  },
  {
   "cell_type": "code",
   "execution_count": null,
   "id": "random-generic",
   "metadata": {},
   "outputs": [],
   "source": []
  },
  {
   "cell_type": "code",
   "execution_count": null,
   "id": "internal-timber",
   "metadata": {},
   "outputs": [],
   "source": [
    "def  CBCV_steps():\n",
    "    print('Step 1: Create RFM dataframe from the dataset')\n",
    "    print('Step 2: FIT Models')\n",
    "    #Beta Geometric / Negative Binomial distribution model (BG/NBD) to the RFM dataframe to predict transactions (Frequency) and churn (Recency)')\n",
    "    print('Step 3: PREDICT probability_alive')\n",
    "    print('Step 4: PREDICT expected number of purchases, predicted_purchases')\n",
    "    print('Step 5: CHECK predicted data to make sure it makes sense')\n",
    "    print('TRAIN, TEST SPLIT or  CALIBRATION and HOLDOUT')\n",
    "    print('Step 6: CHECK correlation of frequency & monetary_value')\n",
    "    print('Step 7: FIT Gamma-Gamma model to predict monetary value')\n",
    "    print('Step 8: PREDICT exp_avg_sales and compare to actual')\n",
    "    print('Step 9: PREDICT Lifetime Value, predicted_ltv')\n",
    "    print('Step 10: CHECK predicted_ltv to manual_predicted_ltv')\n",
    "    print('Step 11: Calculate CLV by multipying predicted_ltv * profit_margin')\n",
    "    print('CLTV = LTV * Profit Margin \\n')\n",
    "    print('CBCV approach:  ')\n",
    "    # print('FCF = Customer Value - Fixed Cost * 1-Tax Rate\n",
    "    print('Customer value (CV) - Fixed Cost(FC) * (1-Tax Rate) + Net Operatign Assets (NOA) - Net Debt (ND)')\n",
    "    print('Customer Value = Present Value of Future Customers + Present Value of Existing Customers')\n",
    "    print('Present Value of Future Customers = Number of New Customers * ( CLTV of New Customers * Customer Acquisition Costs')\n",
    "    print('Possibly divide Value of Future Customer by WACC to get Present Value of Future Customers')\n"
   ]
  }
 ],
 "metadata": {
  "kernelspec": {
   "display_name": "Python 3",
   "language": "python",
   "name": "python3"
  },
  "language_info": {
   "codemirror_mode": {
    "name": "ipython",
    "version": 3
   },
   "file_extension": ".py",
   "mimetype": "text/x-python",
   "name": "python",
   "nbconvert_exporter": "python",
   "pygments_lexer": "ipython3",
   "version": "3.7.9"
  }
 },
 "nbformat": 4,
 "nbformat_minor": 5
}
